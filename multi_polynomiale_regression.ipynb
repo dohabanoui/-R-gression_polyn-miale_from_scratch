{
 "cells": [
  {
   "cell_type": "markdown",
   "id": "0d4be5e2",
   "metadata": {
    "toc": true
   },
   "source": [
    "<h1>Table of Contents<span class=\"tocSkip\"></span></h1>\n",
    "<div class=\"toc\"><ul class=\"toc-item\"><li><span><a href=\"#multi_polynomiale_regression\" data-toc-modified-id=\"multi_polynomiale_regression-1\"><span class=\"toc-item-num\">1&nbsp;&nbsp;</span>multi_polynomiale_regression</a></span><ul class=\"toc-item\"><li><span><a href=\"#Le-modele\" data-toc-modified-id=\"Le-modele-1.1\"><span class=\"toc-item-num\">1.1&nbsp;&nbsp;</span>Le modele</a></span></li><li><span><a href=\"#Les-erreurs-du-modele\" data-toc-modified-id=\"Les-erreurs-du-modele-1.2\"><span class=\"toc-item-num\">1.2&nbsp;&nbsp;</span>Les erreurs du modele</a></span></li><li><span><a href=\"#Gradient\" data-toc-modified-id=\"Gradient-1.3\"><span class=\"toc-item-num\">1.3&nbsp;&nbsp;</span>Gradient</a></span></li><li><span><a href=\"#Evaluation-du-modèle\" data-toc-modified-id=\"Evaluation-du-modèle-1.4\"><span class=\"toc-item-num\">1.4&nbsp;&nbsp;</span>Evaluation du modèle</a></span></li></ul></li><li><span><a href=\"#Analyse-du-dataset\" data-toc-modified-id=\"Analyse-du-dataset-2\"><span class=\"toc-item-num\">2&nbsp;&nbsp;</span>Analyse du dataset</a></span><ul class=\"toc-item\"><li><span><a href=\"#Diviser-notre-dataset-en-x-et-y\" data-toc-modified-id=\"Diviser-notre-dataset-en-x-et-y-2.1\"><span class=\"toc-item-num\">2.1&nbsp;&nbsp;</span>Diviser notre dataset en x et y</a></span></li><li><span><a href=\"#Split-des-données\" data-toc-modified-id=\"Split-des-données-2.2\"><span class=\"toc-item-num\">2.2&nbsp;&nbsp;</span>Split des données</a></span></li><li><span><a href=\"#La-normalisation-du-dataset\" data-toc-modified-id=\"La-normalisation-du-dataset-2.3\"><span class=\"toc-item-num\">2.3&nbsp;&nbsp;</span>La normalisation du dataset</a></span></li></ul></li><li><span><a href=\"#Pour-le-cas-de-la-regression-lineaire\" data-toc-modified-id=\"Pour-le-cas-de-la-regression-lineaire-3\"><span class=\"toc-item-num\">3&nbsp;&nbsp;</span>Pour le cas de la regression lineaire</a></span><ul class=\"toc-item\"><li><span><a href=\"#Creation-de-la-matrice-X\" data-toc-modified-id=\"Creation-de-la-matrice-X-3.1\"><span class=\"toc-item-num\">3.1&nbsp;&nbsp;</span>Creation de la matrice X</a></span></li><li><span><a href=\"#création-d'un-vecteur-parametre-θ\" data-toc-modified-id=\"création-d'un-vecteur-parametre-θ-3.2\"><span class=\"toc-item-num\">3.2&nbsp;&nbsp;</span>création d'un vecteur parametre θ</a></span></li><li><span><a href=\"#Fonction-coût-:-Erreur-Quadratique-Moyenne\" data-toc-modified-id=\"Fonction-coût-:-Erreur-Quadratique-Moyenne-3.3\"><span class=\"toc-item-num\">3.3&nbsp;&nbsp;</span>Fonction coût : Erreur Quadratique Moyenne</a></span></li><li><span><a href=\"#Phase-d'entrainement\" data-toc-modified-id=\"Phase-d'entrainement-3.4\"><span class=\"toc-item-num\">3.4&nbsp;&nbsp;</span>Phase d'entrainement</a></span></li><li><span><a href=\"#Vecteur-de-prediction\" data-toc-modified-id=\"Vecteur-de-prediction-3.5\"><span class=\"toc-item-num\">3.5&nbsp;&nbsp;</span>Vecteur de prediction</a></span></li><li><span><a href=\"#Courbe-d'apprentissage\" data-toc-modified-id=\"Courbe-d'apprentissage-3.6\"><span class=\"toc-item-num\">3.6&nbsp;&nbsp;</span>Courbe d'apprentissage</a></span></li><li><span><a href=\"#Evaluation-du-modèle---Coefficient-de-détermination\" data-toc-modified-id=\"Evaluation-du-modèle---Coefficient-de-détermination-3.7\"><span class=\"toc-item-num\">3.7&nbsp;&nbsp;</span>Evaluation du modèle - Coefficient de détermination</a></span></li></ul></li><li><span><a href=\"#Pour-la-régression-polynômiale-multivariée\" data-toc-modified-id=\"Pour-la-régression-polynômiale-multivariée-4\"><span class=\"toc-item-num\">4&nbsp;&nbsp;</span>Pour la régression polynômiale multivariée</a></span><ul class=\"toc-item\"><li><span><a href=\"#Creation-de-la-matrice-X\" data-toc-modified-id=\"Creation-de-la-matrice-X-4.1\"><span class=\"toc-item-num\">4.1&nbsp;&nbsp;</span>Creation de la matrice X</a></span></li><li><span><a href=\"#création-d'un-vecteur-parametre-θ\" data-toc-modified-id=\"création-d'un-vecteur-parametre-θ-4.2\"><span class=\"toc-item-num\">4.2&nbsp;&nbsp;</span>création d'un vecteur parametre θ</a></span></li><li><span><a href=\"#Phase-d'entrainement\" data-toc-modified-id=\"Phase-d'entrainement-4.3\"><span class=\"toc-item-num\">4.3&nbsp;&nbsp;</span>Phase d'entrainement</a></span></li><li><span><a href=\"#Vecteur-de-prediction\" data-toc-modified-id=\"Vecteur-de-prediction-4.4\"><span class=\"toc-item-num\">4.4&nbsp;&nbsp;</span>Vecteur de prediction</a></span></li><li><span><a href=\"#Courbe-d'apprentissage\" data-toc-modified-id=\"Courbe-d'apprentissage-4.5\"><span class=\"toc-item-num\">4.5&nbsp;&nbsp;</span>Courbe d'apprentissage</a></span></li><li><span><a href=\"#Evaluation-du-modèle---Coefficient-de-détermination\" data-toc-modified-id=\"Evaluation-du-modèle---Coefficient-de-détermination-4.6\"><span class=\"toc-item-num\">4.6&nbsp;&nbsp;</span>Evaluation du modèle - Coefficient de détermination</a></span></li></ul></li><li><span><a href=\"#Conclusion\" data-toc-modified-id=\"Conclusion-5\"><span class=\"toc-item-num\">5&nbsp;&nbsp;</span>Conclusion</a></span></li></ul></div>"
   ]
  },
  {
   "cell_type": "markdown",
   "id": "dafb88d3",
   "metadata": {},
   "source": [
    "# Analyse du dataset"
   ]
  },
  {
   "cell_type": "code",
   "execution_count": 157,
   "id": "4aaf4dbc",
   "metadata": {},
   "outputs": [],
   "source": [
    "import pandas as pd\n",
    "import numpy as np\n",
    "import matplotlib.pyplot as plt\n",
    "from main import*\n",
    "%matplotlib inline"
   ]
  },
  {
   "cell_type": "code",
   "execution_count": 158,
   "id": "fd4ad33b",
   "metadata": {},
   "outputs": [],
   "source": [
    "dataset=pd.read_csv(\"advertising.csv\")"
   ]
  },
  {
   "cell_type": "code",
   "execution_count": 159,
   "id": "b1933fdf",
   "metadata": {},
   "outputs": [
    {
     "data": {
      "text/html": [
       "<div>\n",
       "<style scoped>\n",
       "    .dataframe tbody tr th:only-of-type {\n",
       "        vertical-align: middle;\n",
       "    }\n",
       "\n",
       "    .dataframe tbody tr th {\n",
       "        vertical-align: top;\n",
       "    }\n",
       "\n",
       "    .dataframe thead th {\n",
       "        text-align: right;\n",
       "    }\n",
       "</style>\n",
       "<table border=\"1\" class=\"dataframe\">\n",
       "  <thead>\n",
       "    <tr style=\"text-align: right;\">\n",
       "      <th></th>\n",
       "      <th>TV</th>\n",
       "      <th>Radio</th>\n",
       "      <th>Newspaper</th>\n",
       "      <th>Sales</th>\n",
       "    </tr>\n",
       "  </thead>\n",
       "  <tbody>\n",
       "    <tr>\n",
       "      <th>0</th>\n",
       "      <td>230.1</td>\n",
       "      <td>37.8</td>\n",
       "      <td>69.2</td>\n",
       "      <td>22.1</td>\n",
       "    </tr>\n",
       "    <tr>\n",
       "      <th>1</th>\n",
       "      <td>44.5</td>\n",
       "      <td>39.3</td>\n",
       "      <td>45.1</td>\n",
       "      <td>10.4</td>\n",
       "    </tr>\n",
       "    <tr>\n",
       "      <th>2</th>\n",
       "      <td>17.2</td>\n",
       "      <td>45.9</td>\n",
       "      <td>69.3</td>\n",
       "      <td>12.0</td>\n",
       "    </tr>\n",
       "    <tr>\n",
       "      <th>3</th>\n",
       "      <td>151.5</td>\n",
       "      <td>41.3</td>\n",
       "      <td>58.5</td>\n",
       "      <td>16.5</td>\n",
       "    </tr>\n",
       "    <tr>\n",
       "      <th>4</th>\n",
       "      <td>180.8</td>\n",
       "      <td>10.8</td>\n",
       "      <td>58.4</td>\n",
       "      <td>17.9</td>\n",
       "    </tr>\n",
       "  </tbody>\n",
       "</table>\n",
       "</div>"
      ],
      "text/plain": [
       "      TV  Radio  Newspaper  Sales\n",
       "0  230.1   37.8       69.2   22.1\n",
       "1   44.5   39.3       45.1   10.4\n",
       "2   17.2   45.9       69.3   12.0\n",
       "3  151.5   41.3       58.5   16.5\n",
       "4  180.8   10.8       58.4   17.9"
      ]
     },
     "execution_count": 159,
     "metadata": {},
     "output_type": "execute_result"
    }
   ],
   "source": [
    "dataset.head()"
   ]
  },
  {
   "cell_type": "markdown",
   "id": "a3f023c4",
   "metadata": {},
   "source": [
    "## Diviser notre dataset en x et y"
   ]
  },
  {
   "cell_type": "code",
   "execution_count": 160,
   "id": "f2a1b692",
   "metadata": {},
   "outputs": [],
   "source": [
    "x = dataset[[\"TV\",\"Radio\",\"Newspaper\"]]\n",
    "y = dataset[[\"Sales\"]]"
   ]
  },
  {
   "cell_type": "code",
   "execution_count": 161,
   "id": "53cf6861",
   "metadata": {
    "scrolled": true
   },
   "outputs": [
    {
     "name": "stdout",
     "output_type": "stream",
     "text": [
      "(200, 3) (200, 1)\n"
     ]
    }
   ],
   "source": [
    "print(x.shape,y.shape)"
   ]
  },
  {
   "cell_type": "markdown",
   "id": "4805c2af",
   "metadata": {},
   "source": [
    "## Split des données"
   ]
  },
  {
   "cell_type": "code",
   "execution_count": 162,
   "id": "b99af31a",
   "metadata": {},
   "outputs": [],
   "source": [
    "from sklearn.model_selection import train_test_split\n",
    "x_train,x_test , y_train,y_test = train_test_split(x, y, test_size = 0.20, random_state=42)"
   ]
  },
  {
   "cell_type": "code",
   "execution_count": 163,
   "id": "4205c87a",
   "metadata": {},
   "outputs": [
    {
     "name": "stdout",
     "output_type": "stream",
     "text": [
      "(160, 3)\n",
      "(40, 3)\n",
      "(160, 1)\n",
      "(40, 1)\n"
     ]
    }
   ],
   "source": [
    "print(x_train.shape)\n",
    "print(x_test.shape)\n",
    "print(y_train.shape)\n",
    "print(y_test.shape)"
   ]
  },
  {
   "cell_type": "markdown",
   "id": "f58586d1",
   "metadata": {},
   "source": [
    "## La normalisation du dataset"
   ]
  },
  {
   "cell_type": "code",
   "execution_count": 164,
   "id": "96f1cead",
   "metadata": {},
   "outputs": [],
   "source": [
    "x_train = (x_train - x_train.mean())/x_train.std()\n",
    "x_test = (x_test - x_test.mean())/x_test.std()"
   ]
  },
  {
   "cell_type": "code",
   "execution_count": 165,
   "id": "0594ec56",
   "metadata": {},
   "outputs": [
    {
     "name": "stdout",
     "output_type": "stream",
     "text": [
      "(160, 3)\n",
      "(160, 1)\n"
     ]
    }
   ],
   "source": [
    "print(x_train.shape)\n",
    "print(y_train.shape)"
   ]
  },
  {
   "cell_type": "markdown",
   "id": "60d6e143",
   "metadata": {},
   "source": [
    "# Pour le cas de la regression lineaire"
   ]
  },
  {
   "cell_type": "markdown",
   "id": "f3e6e608",
   "metadata": {},
   "source": [
    "## Creation de la matrice X"
   ]
  },
  {
   "cell_type": "markdown",
   "id": "187f5058",
   "metadata": {},
   "source": [
    "Création de la matrice X qui contient la colonne de Biais. Pour ca, on colle l'un contre l'autre le vecteur x et un vecteur 1 (avec np.ones) de dimension égale a celle de x"
   ]
  },
  {
   "cell_type": "code",
   "execution_count": 166,
   "id": "e8b25651",
   "metadata": {},
   "outputs": [],
   "source": [
    "X_train= np.hstack((x_train, np.ones((x_train.shape[0], 1))))\n",
    "X_test= np.hstack((x_test, np.ones((x_test.shape[0], 1))))"
   ]
  },
  {
   "cell_type": "code",
   "execution_count": 167,
   "id": "60254d02",
   "metadata": {},
   "outputs": [
    {
     "name": "stdout",
     "output_type": "stream",
     "text": [
      "(160, 4)\n",
      "(40, 4)\n"
     ]
    }
   ],
   "source": [
    "print(X_train.shape)\n",
    "print(X_test.shape)"
   ]
  },
  {
   "cell_type": "code",
   "execution_count": 168,
   "id": "d1c71f2d",
   "metadata": {
    "scrolled": true
   },
   "outputs": [
    {
     "name": "stdout",
     "output_type": "stream",
     "text": [
      "[[-0.40298313 -1.02501879 -0.33661849  1.        ]\n",
      " [ 0.31960425 -0.91694877 -1.15780412  1.        ]\n",
      " [-1.26653427  0.25831267  0.25345501  1.        ]\n",
      " [-1.03909693 -0.69405436 -0.5726479   1.        ]\n",
      " [ 0.8763519  -1.38300072 -0.70541444  1.        ]\n",
      " [-1.32457818 -1.29519383 -0.79392546  1.        ]\n",
      " [-0.94077767 -0.46440557  0.53373993  1.        ]\n",
      " [-0.03221289  0.06919014 -0.53330966  1.        ]\n",
      " [-0.53802405 -1.16010631  0.21903406  1.        ]\n",
      " [-0.87325721  0.31234768 -0.68574532  1.        ]]\n"
     ]
    }
   ],
   "source": [
    "print(X_train[:10])"
   ]
  },
  {
   "cell_type": "markdown",
   "id": "de0353e8",
   "metadata": {},
   "source": [
    "## création d'un vecteur parametre θ"
   ]
  },
  {
   "cell_type": "markdown",
   "id": "1f5703e5",
   "metadata": {},
   "source": [
    "Finalement, création d'un vecteur parametre θ, initialisé avec des coefficients aléatoires. Ce vecteur est de dimension (2, 1). Si on désire toujours reproduire le meme vecteur \n",
    "θ, on utilise comme avant np.random.seed(0)"
   ]
  },
  {
   "cell_type": "code",
   "execution_count": 169,
   "id": "e45f2b9a",
   "metadata": {},
   "outputs": [],
   "source": [
    "np.random.seed(0) # pour produire toujours le meme vecteur theta aléatoire\n",
    "theta = np.random.randn(4,1)"
   ]
  },
  {
   "cell_type": "code",
   "execution_count": 170,
   "id": "ee151796",
   "metadata": {},
   "outputs": [
    {
     "data": {
      "text/plain": [
       "array([[1.76405235],\n",
       "       [0.40015721],\n",
       "       [0.97873798],\n",
       "       [2.2408932 ]])"
      ]
     },
     "execution_count": 170,
     "metadata": {},
     "output_type": "execute_result"
    }
   ],
   "source": [
    "theta"
   ]
  },
  {
   "cell_type": "markdown",
   "id": "4f8ef408",
   "metadata": {},
   "source": [
    "## Fonction coût : Erreur Quadratique Moyenne"
   ]
  },
  {
   "cell_type": "code",
   "execution_count": 171,
   "id": "ec4ef451",
   "metadata": {},
   "outputs": [
    {
     "data": {
      "text/plain": [
       "Sales    91.74092\n",
       "dtype: float64"
      ]
     },
     "execution_count": 171,
     "metadata": {},
     "output_type": "execute_result"
    }
   ],
   "source": [
    "cost_function(X_train, y_train, theta)"
   ]
  },
  {
   "cell_type": "code",
   "execution_count": 172,
   "id": "2e518c09",
   "metadata": {
    "scrolled": true
   },
   "outputs": [
    {
     "data": {
      "text/plain": [
       "Sales    91.748663\n",
       "dtype: float64"
      ]
     },
     "execution_count": 172,
     "metadata": {},
     "output_type": "execute_result"
    }
   ],
   "source": [
    "# en utilisant la régularisation Ridge\n",
    "cost_function_reg(X_train, y_train, theta,1)"
   ]
  },
  {
   "cell_type": "code",
   "execution_count": 173,
   "id": "b6d43568",
   "metadata": {},
   "outputs": [
    {
     "data": {
      "text/plain": [
       "Sales    91.748663\n",
       "dtype: float64"
      ]
     },
     "execution_count": 173,
     "metadata": {},
     "output_type": "execute_result"
    }
   ],
   "source": [
    "# en utilisant la régularisation Lasso\n",
    "cost_function_regLasso(X_train, y_train, theta,1)"
   ]
  },
  {
   "cell_type": "markdown",
   "id": "42add5a3",
   "metadata": {},
   "source": [
    "## Phase d'entrainement\n",
    "On définit un nombre d'itérations, ainsi qu'un pas d'apprentissage α. Une fois le modele entrainé, on observe les resultats par rapport a notre Dataset"
   ]
  },
  {
   "cell_type": "code",
   "execution_count": 174,
   "id": "1b30eb6b",
   "metadata": {},
   "outputs": [
    {
     "name": "stderr",
     "output_type": "stream",
     "text": [
      "Descente de gradient:   0%|                                                                   | 0/1000 [00:00<?, ?it/s]E:\\SDIA\\Les bases IA\\TPS\\polynomial-multivariant\\main.py:62: FutureWarning: Calling float on a single element Series is deprecated and will raise a TypeError in the future. Use float(ser.iloc[0]) instead\n",
      "  cost_history[i] = cost_function(X, y, theta)  # On enregistre la valeur du coût au tour i dans cost_history[i]\n",
      "Descente de gradient: 100%|███████████████████████████████████████████████████████| 1000/1000 [00:01<00:00, 820.99it/s]\n"
     ]
    }
   ],
   "source": [
    "from tqdm import tqdm\n",
    "\n",
    "n_iterations = 1000\n",
    "learning_rate = 0.01\n",
    "\n",
    "theta_final, cost_history = gradient_descent(X_train, y_train, theta, learning_rate, n_iterations)"
   ]
  },
  {
   "cell_type": "code",
   "execution_count": 175,
   "id": "09c51b87",
   "metadata": {},
   "outputs": [
    {
     "name": "stderr",
     "output_type": "stream",
     "text": [
      "Descente de gradient:   0%|                                                                   | 0/1000 [00:00<?, ?it/s]C:\\Users\\admin\\AppData\\Local\\Temp\\ipykernel_2532\\581149796.py:15: FutureWarning: Calling float on a single element Series is deprecated and will raise a TypeError in the future. Use float(ser.iloc[0]) instead\n",
      "  cost_history[i] = cost_function_reg(X, y, theta, _lambda)\n",
      "Descente de gradient: 100%|███████████████████████████████████████████████████████| 1000/1000 [00:01<00:00, 767.64it/s]\n"
     ]
    }
   ],
   "source": [
    "# en utilisant la régularisation ridge\n",
    "theta_final_reg, cost_history_reg = gradient_descent_regularized(X_train, y_train, theta, learning_rate, n_iterations,1)"
   ]
  },
  {
   "cell_type": "code",
   "execution_count": 176,
   "id": "f811620c",
   "metadata": {},
   "outputs": [
    {
     "name": "stderr",
     "output_type": "stream",
     "text": [
      "Descente de gradient:   0%|                                                                   | 0/1000 [00:00<?, ?it/s]C:\\Users\\admin\\AppData\\Local\\Temp\\ipykernel_2532\\3749526690.py:13: FutureWarning: Calling float on a single element Series is deprecated and will raise a TypeError in the future. Use float(ser.iloc[0]) instead\n",
      "  cost_history[i] = cost_function_reg(X, y, theta, _lambda)\n",
      "Descente de gradient: 100%|███████████████████████████████████████████████████████| 1000/1000 [00:01<00:00, 774.04it/s]\n"
     ]
    }
   ],
   "source": [
    "# en utilisant la régularisation Lasso\n",
    "theta_final_regLasso, cost_history_regLasso = gradient_descent_regLasso(X_train, y_train, theta, learning_rate, n_iterations,1)"
   ]
  },
  {
   "cell_type": "markdown",
   "id": "65af6592",
   "metadata": {},
   "source": [
    "## Vecteur de prediction"
   ]
  },
  {
   "cell_type": "code",
   "execution_count": 177,
   "id": "727ca371",
   "metadata": {},
   "outputs": [],
   "source": [
    "predictions = model(X_test, theta_final)"
   ]
  },
  {
   "cell_type": "code",
   "execution_count": 178,
   "id": "1a8ed51e",
   "metadata": {},
   "outputs": [],
   "source": [
    "# en utilisant la régularisation ridge\n",
    "predictions_reg = model(X_test, theta_final_reg)"
   ]
  },
  {
   "cell_type": "code",
   "execution_count": 179,
   "id": "5ffcf62e",
   "metadata": {},
   "outputs": [],
   "source": [
    "# en utilisant la régularisation Lasso\n",
    "predictions_regLasso = model(X_test, theta_final_regLasso)"
   ]
  },
  {
   "cell_type": "markdown",
   "id": "3d087de6",
   "metadata": {},
   "source": [
    "## Courbe d'apprentissage"
   ]
  },
  {
   "cell_type": "code",
   "execution_count": 180,
   "id": "519d3dbd",
   "metadata": {
    "scrolled": false
   },
   "outputs": [
    {
     "data": {
      "image/png": "[encoded data removed]",
      "text/plain": [
       "<Figure size 640x480 with 1 Axes>"
      ]
     },
     "metadata": {},
     "output_type": "display_data"
    }
   ],
   "source": [
    "plt.plot(range(n_iterations), cost_history)\n",
    "plt.show()"
   ]
  },
  {
   "cell_type": "code",
   "execution_count": 181,
   "id": "ff1c49c8",
   "metadata": {},
   "outputs": [
    {
     "data": {
      "image/png": "[encoded data removed]",
      "text/plain": [
       "<Figure size 640x480 with 1 Axes>"
      ]
     },
     "metadata": {},
     "output_type": "display_data"
    }
   ],
   "source": [
    "plt.plot(range(n_iterations), cost_history_reg)\n",
    "plt.show()"
   ]
  },
  {
   "cell_type": "markdown",
   "id": "eb5cab7c",
   "metadata": {},
   "source": [
    "## Evaluation du modèle - Coefficient de détermination\n",
    "\n",
    "   Le coefficient de détermination est un indice de la qualité de la prédiction de la régression linéaire. Le coefficient de détermination se situe entre 0 et 1. Plus il est proche de 1, plus la régression linéaire est en adéquation avec les données collectées\n",
    "  "
   ]
  },
  {
   "cell_type": "code",
   "execution_count": 182,
   "id": "406b1dfe",
   "metadata": {
    "scrolled": true
   },
   "outputs": [
    {
     "name": "stdout",
     "output_type": "stream",
     "text": [
      "Sales    87.53\n",
      "dtype: float64 %\n"
     ]
    }
   ],
   "source": [
    "print((coef_determination(y_test, predictions)*100).round(2),\"%\")"
   ]
  },
  {
   "cell_type": "code",
   "execution_count": 183,
   "id": "49a7e2e0",
   "metadata": {},
   "outputs": [
    {
     "name": "stdout",
     "output_type": "stream",
     "text": [
      "Sales    88.03\n",
      "dtype: float64 %\n"
     ]
    }
   ],
   "source": [
    "# en utilisant la régularisation Ridge\n",
    "print((coef_determination(y_test, predictions_reg)*100).round(2),\"%\")"
   ]
  },
  {
   "cell_type": "code",
   "execution_count": 184,
   "id": "eeb93e76",
   "metadata": {},
   "outputs": [
    {
     "name": "stdout",
     "output_type": "stream",
     "text": [
      "Sales    87.55\n",
      "dtype: float64 %\n"
     ]
    }
   ],
   "source": [
    "# en utilisant la régularisation Lasso\n",
    "print((coef_determination(y_test, predictions_regLasso)*100).round(2),\"%\")"
   ]
  },
  {
   "cell_type": "markdown",
   "id": "06673732",
   "metadata": {},
   "source": [
    "# Pour la régression polynômiale multivariée"
   ]
  },
  {
   "cell_type": "markdown",
   "id": "cf0fa67f",
   "metadata": {},
   "source": [
    "## Creation de la matrice X"
   ]
  },
  {
   "cell_type": "code",
   "execution_count": 185,
   "id": "9cd1e306",
   "metadata": {},
   "outputs": [],
   "source": [
    "x1 = x_train.iloc[:, 0:1].values\n",
    "x2 = x_train.iloc[:, 1:2].values\n",
    "x3 = x_train.iloc[:, 2:3].values\n",
    "\n",
    "y1 = x_test.iloc[:, 0:1].values\n",
    "y2 = x_test.iloc[:, 1:2].values\n",
    "y3 = x_test.iloc[:, 2:3].values\n",
    "\n",
    "\n",
    "X_train_poly = np.hstack((x1**2, x2**2, x3**2,x1,x2,x3,x1*x2 , x1*x3 , x2*x3,np.ones((x_train.shape[0], 1))))\n",
    "\n",
    "X_test_poly = np.hstack((y1**2, y2**2, y3**2,y1,y2,y3,y1*y2 , y1*y3 , y2*y3 ,np.ones((x_test.shape[0], 1))))"
   ]
  },
  {
   "cell_type": "code",
   "execution_count": 186,
   "id": "5a3d7ed7",
   "metadata": {},
   "outputs": [
    {
     "name": "stdout",
     "output_type": "stream",
     "text": [
      "(160, 10)\n",
      "(40, 10)\n"
     ]
    }
   ],
   "source": [
    "print(X_train_poly.shape)\n",
    "print(X_test_poly.shape)"
   ]
  },
  {
   "cell_type": "markdown",
   "id": "4d428eeb",
   "metadata": {},
   "source": [
    "## création d'un vecteur parametre θ"
   ]
  },
  {
   "cell_type": "code",
   "execution_count": 187,
   "id": "f401c890",
   "metadata": {},
   "outputs": [],
   "source": [
    "theta_poly = np.random.randn(10,1)"
   ]
  },
  {
   "cell_type": "markdown",
   "id": "36e0ead7",
   "metadata": {},
   "source": [
    "## Phase d'entrainement"
   ]
  },
  {
   "cell_type": "code",
   "execution_count": 188,
   "id": "578e7478",
   "metadata": {},
   "outputs": [
    {
     "name": "stderr",
     "output_type": "stream",
     "text": [
      "Descente de gradient: 100%|███████████████████████████████████████████████████████| 1000/1000 [00:01<00:00, 831.09it/s]\n"
     ]
    }
   ],
   "source": [
    "theta_final_poly, cost_history_poly = gradient_descent(X_train_poly, y_train, theta_poly, learning_rate, n_iterations)"
   ]
  },
  {
   "cell_type": "code",
   "execution_count": 189,
   "id": "a0a81256",
   "metadata": {
    "scrolled": true
   },
   "outputs": [
    {
     "name": "stderr",
     "output_type": "stream",
     "text": [
      "Descente de gradient:   0%|                                                                   | 0/1000 [00:00<?, ?it/s]C:\\Users\\admin\\AppData\\Local\\Temp\\ipykernel_2532\\581149796.py:15: FutureWarning: Calling float on a single element Series is deprecated and will raise a TypeError in the future. Use float(ser.iloc[0]) instead\n",
      "  cost_history[i] = cost_function_reg(X, y, theta, _lambda)\n",
      "Descente de gradient: 100%|███████████████████████████████████████████████████████| 1000/1000 [00:01<00:00, 782.80it/s]\n"
     ]
    }
   ],
   "source": [
    "# en utilisant la régularisation\n",
    "theta_final_poly_reg, cost_history_poly_reg = gradient_descent_regularized(X_train_poly, y_train, theta_poly, learning_rate, n_iterations,1)"
   ]
  },
  {
   "cell_type": "code",
   "execution_count": 190,
   "id": "089bb207",
   "metadata": {},
   "outputs": [
    {
     "name": "stderr",
     "output_type": "stream",
     "text": [
      "Descente de gradient:   0%|                                                                   | 0/1000 [00:00<?, ?it/s]C:\\Users\\admin\\AppData\\Local\\Temp\\ipykernel_2532\\3749526690.py:13: FutureWarning: Calling float on a single element Series is deprecated and will raise a TypeError in the future. Use float(ser.iloc[0]) instead\n",
      "  cost_history[i] = cost_function_reg(X, y, theta, _lambda)\n",
      "Descente de gradient: 100%|███████████████████████████████████████████████████████| 1000/1000 [00:01<00:00, 800.02it/s]\n"
     ]
    }
   ],
   "source": [
    "theta_final_poly_regLasso, cost_history_poly_regLasso = gradient_descent_regLasso(X_train_poly, y_train, theta_poly, learning_rate, n_iterations,1)"
   ]
  },
  {
   "cell_type": "markdown",
   "id": "da209224",
   "metadata": {},
   "source": [
    "## Vecteur de prediction"
   ]
  },
  {
   "cell_type": "code",
   "execution_count": 191,
   "id": "0ef4913d",
   "metadata": {},
   "outputs": [],
   "source": [
    "predictions = model(X_test_poly, theta_final_poly)"
   ]
  },
  {
   "cell_type": "code",
   "execution_count": 192,
   "id": "ed60fc16",
   "metadata": {},
   "outputs": [],
   "source": [
    "# en utilisant la régularisation\n",
    "predictions_reg = model(X_test_poly, theta_final_poly_reg)"
   ]
  },
  {
   "cell_type": "code",
   "execution_count": 193,
   "id": "d3b4c35a",
   "metadata": {},
   "outputs": [],
   "source": [
    "predictions_regLasso = model(X_test_poly, theta_final_poly_regLasso)"
   ]
  },
  {
   "cell_type": "markdown",
   "id": "f8efcbd3",
   "metadata": {},
   "source": [
    "## Courbe d'apprentissage\n"
   ]
  },
  {
   "cell_type": "code",
   "execution_count": 194,
   "id": "3fc8216c",
   "metadata": {
    "scrolled": false
   },
   "outputs": [
    {
     "data": {
      "image/png": "[encoded data removed]",
      "text/plain": [
       "<Figure size 640x480 with 1 Axes>"
      ]
     },
     "metadata": {},
     "output_type": "display_data"
    }
   ],
   "source": [
    "plt.plot(range(n_iterations), cost_history)\n",
    "plt.show()"
   ]
  },
  {
   "cell_type": "code",
   "execution_count": 195,
   "id": "4f19450f",
   "metadata": {},
   "outputs": [
    {
     "data": {
      "image/png": "[encoded data removed]",
      "text/plain": [
       "<Figure size 640x480 with 1 Axes>"
      ]
     },
     "metadata": {},
     "output_type": "display_data"
    }
   ],
   "source": [
    "# en utilisant la régularisation\n",
    "plt.plot(range(n_iterations), cost_history_reg)\n",
    "plt.show()"
   ]
  },
  {
   "cell_type": "markdown",
   "id": "e9d39233",
   "metadata": {},
   "source": [
    "## Evaluation du modèle - Coefficient de détermination"
   ]
  },
  {
   "cell_type": "code",
   "execution_count": 196,
   "id": "32daaa8a",
   "metadata": {},
   "outputs": [
    {
     "name": "stdout",
     "output_type": "stream",
     "text": [
      "Sales    91.34\n",
      "dtype: float64 %\n"
     ]
    }
   ],
   "source": [
    "print((coef_determination(y_test, predictions)*100).round(2),\"%\")"
   ]
  },
  {
   "cell_type": "code",
   "execution_count": 197,
   "id": "1372bc53",
   "metadata": {},
   "outputs": [
    {
     "name": "stdout",
     "output_type": "stream",
     "text": [
      "Sales    91.06\n",
      "dtype: float64 %\n"
     ]
    }
   ],
   "source": [
    "# en utilisant la régularisation\n",
    "print((coef_determination(y_test, predictions_reg)*100).round(2),\"%\")"
   ]
  },
  {
   "cell_type": "code",
   "execution_count": 198,
   "id": "f61de927",
   "metadata": {},
   "outputs": [
    {
     "name": "stdout",
     "output_type": "stream",
     "text": [
      "Sales    91.35\n",
      "dtype: float64 %\n"
     ]
    }
   ],
   "source": [
    "print((coef_determination(y_test, predictions_regLasso)*100).round(2),\"%\")"
   ]
  },
  {
   "cell_type": "markdown",
   "id": "940d2be7",
   "metadata": {},
   "source": [
    "# Conclusion"
   ]
  },
  {
   "cell_type": "markdown",
   "id": "b3cd66bb",
   "metadata": {},
   "source": [
    "| Les cas | Performance |\n",
    "| --- | --- |\n",
    "|avec regression lineaire | 87.53|\n",
    "|la regularisation bridge de la regression lineaire | 88.03|\n",
    "|la regularisation lasso de la regression lineaire | 87.55|\n",
    "|avec la regression polynomial | 91.98|\n",
    "|la regularisation bridge de la regression polynomial |91.06|\n",
    "|la regularisation lasso de la regression polynomial |91.35|"
   ]
  },
  {
   "cell_type": "markdown",
   "id": "c8050341",
   "metadata": {},
   "source": [
    "> On peut conclure que le modèle de régression polynômiale multivariée de degré 2 est efficace pour notre dataset que modèle de régression linéaire multiple\n",
    "\n",
    "> La regularisation-RIDGE permet de remedier le probleme de overfitting c'est pour cela on a une petite augmentation du performance "
   ]
  }
 ],
 "metadata": {
  "kernelspec": {
   "display_name": "Python 3 (ipykernel)",
   "language": "python",
   "name": "python3"
  },
  "language_info": {
   "codemirror_mode": {
    "name": "ipython",
    "version": 3
   },
   "file_extension": ".py",
   "mimetype": "text/x-python",
   "name": "python",
   "nbconvert_exporter": "python",
   "pygments_lexer": "ipython3",
   "version": "3.11.5"
  },
  "toc": {
   "base_numbering": 1,
   "nav_menu": {},
   "number_sections": true,
   "sideBar": true,
   "skip_h1_title": false,
   "title_cell": "Table of Contents",
   "title_sidebar": "Contents",
   "toc_cell": true,
   "toc_position": {},
   "toc_section_display": true,
   "toc_window_display": false
  }
 },
 "nbformat": 4,
 "nbformat_minor": 5
}
